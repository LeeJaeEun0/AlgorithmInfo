{
  "nbformat": 4,
  "nbformat_minor": 0,
  "metadata": {
    "colab": {
      "provenance": [],
      "authorship_tag": "ABX9TyNsHbvGG0oVvqUqESQEbiRR",
      "include_colab_link": true
    },
    "kernelspec": {
      "name": "python3",
      "display_name": "Python 3"
    },
    "language_info": {
      "name": "python"
    }
  },
  "cells": [
    {
      "cell_type": "markdown",
      "metadata": {
        "id": "view-in-github",
        "colab_type": "text"
      },
      "source": [
        "<a href=\"https://colab.research.google.com/github/LeeJaeEun0/AlgorithmInfo/blob/main/counter.ipynb\" target=\"_parent\"><img src=\"https://colab.research.google.com/assets/colab-badge.svg\" alt=\"Open In Colab\"/></a>"
      ]
    },
    {
      "cell_type": "markdown",
      "source": [
        "Counter 사용하기 - 각 데이터가 몇 번 저장되었는지 확인"
      ],
      "metadata": {
        "id": "5joMNhlhFRJU"
      }
    },
    {
      "cell_type": "code",
      "execution_count": null,
      "metadata": {
        "id": "vDN-88drFPOG"
      },
      "outputs": [],
      "source": [
        "from collections import Counter"
      ]
    },
    {
      "cell_type": "code",
      "source": [
        "Counter(['hi','hey','hi','hi','hello'])"
      ],
      "metadata": {
        "colab": {
          "base_uri": "https://localhost:8080/"
        },
        "id": "wkH_HqtPGfUI",
        "outputId": "e078c17b-99fc-4566-ad7f-355b02f1f486"
      },
      "execution_count": null,
      "outputs": [
        {
          "output_type": "execute_result",
          "data": {
            "text/plain": [
              "Counter({'hi': 3, 'hey': 1, 'hello': 1})"
            ]
          },
          "metadata": {},
          "execution_count": 2
        }
      ]
    },
    {
      "cell_type": "code",
      "source": [
        "Counter('hello world')"
      ],
      "metadata": {
        "colab": {
          "base_uri": "https://localhost:8080/"
        },
        "id": "fPS_s1yZIzp0",
        "outputId": "469b3713-b195-4a7f-ea6c-6dbff688af6e"
      },
      "execution_count": null,
      "outputs": [
        {
          "output_type": "execute_result",
          "data": {
            "text/plain": [
              "Counter({'h': 1, 'e': 1, 'l': 3, 'o': 2, ' ': 1, 'w': 1, 'r': 1, 'd': 1})"
            ]
          },
          "metadata": {},
          "execution_count": 3
        }
      ]
    },
    {
      "cell_type": "markdown",
      "source": [
        "Counter를 사전처럼 사용"
      ],
      "metadata": {
        "id": "DfXTCrXqJJCI"
      }
    },
    {
      "cell_type": "code",
      "source": [
        "counter = Counter(\"hello world\")\n",
        "counter['o'], counter['l']"
      ],
      "metadata": {
        "colab": {
          "base_uri": "https://localhost:8080/"
        },
        "id": "y7z6Nd-UJCS4",
        "outputId": "4e1a3884-f645-4824-b3e0-54dc03c548a4"
      },
      "execution_count": null,
      "outputs": [
        {
          "output_type": "execute_result",
          "data": {
            "text/plain": [
              "(2, 3)"
            ]
          },
          "metadata": {},
          "execution_count": 6
        }
      ]
    },
    {
      "cell_type": "code",
      "source": [
        "counter['l']+=1\n",
        "counter['h']-=1\n",
        "counter"
      ],
      "metadata": {
        "colab": {
          "base_uri": "https://localhost:8080/"
        },
        "id": "10x2Of4OJVx-",
        "outputId": "037fd584-d2e3-42c3-f1a9-7a2fa7c4f974"
      },
      "execution_count": null,
      "outputs": [
        {
          "output_type": "execute_result",
          "data": {
            "text/plain": [
              "Counter({'h': 0, 'e': 1, 'l': 4, 'o': 2, ' ': 1, 'w': 1, 'r': 1, 'd': 1})"
            ]
          },
          "metadata": {},
          "execution_count": 7
        }
      ]
    },
    {
      "cell_type": "code",
      "source": [
        "if 'o' in counter:\n",
        "  print('o in counter')\n",
        "\n",
        "del counter['o']\n",
        "\n",
        "if 'o'not in counter:\n",
        "  print('o not in counter')"
      ],
      "metadata": {
        "colab": {
          "base_uri": "https://localhost:8080/"
        },
        "id": "ZvTTuI_BJfj-",
        "outputId": "7c8d27a7-06c3-4051-c28e-285b711c442a"
      },
      "execution_count": null,
      "outputs": [
        {
          "output_type": "stream",
          "name": "stdout",
          "text": [
            "o in counter\n",
            "o not in counter\n"
          ]
        }
      ]
    },
    {
      "cell_type": "markdown",
      "source": [
        "사전으로 Counter 흉내내기"
      ],
      "metadata": {
        "id": "BBxOF6jGKDUc"
      }
    },
    {
      "cell_type": "code",
      "source": [
        "def countLetters(word):\n",
        "    counter = {}\n",
        "    for letter in word:\n",
        "        if letter not in counter:\n",
        "            counter[letter] = 0\n",
        "        counter[letter] += 1\n",
        "    return counter\n",
        "\n",
        "countLetters('hello world')"
      ],
      "metadata": {
        "colab": {
          "base_uri": "https://localhost:8080/"
        },
        "id": "UXCLqzuMJ_xI",
        "outputId": "89cb1110-1a8b-45c5-92a9-1fff6f8b6347"
      },
      "execution_count": null,
      "outputs": [
        {
          "output_type": "execute_result",
          "data": {
            "text/plain": [
              "{'h': 1, 'e': 1, 'l': 3, 'o': 2, ' ': 1, 'w': 1, 'r': 1, 'd': 1}"
            ]
          },
          "metadata": {},
          "execution_count": 9
        }
      ]
    },
    {
      "cell_type": "markdown",
      "source": [
        "가장 흔한 데이터 찾기"
      ],
      "metadata": {
        "id": "L7QXefJJKvgl"
      }
    },
    {
      "cell_type": "code",
      "source": [
        "counter = Counter('hello world')\n",
        "counter.most_common() #데이터수 내림차순 정렬"
      ],
      "metadata": {
        "colab": {
          "base_uri": "https://localhost:8080/"
        },
        "id": "CkYV2kmOKcXX",
        "outputId": "767cfd9e-ed2c-45bf-819c-e75fd37df32e"
      },
      "execution_count": null,
      "outputs": [
        {
          "output_type": "execute_result",
          "data": {
            "text/plain": [
              "[('l', 3),\n",
              " ('o', 2),\n",
              " ('h', 1),\n",
              " ('e', 1),\n",
              " (' ', 1),\n",
              " ('w', 1),\n",
              " ('r', 1),\n",
              " ('d', 1)]"
            ]
          },
          "metadata": {},
          "execution_count": 10
        }
      ]
    },
    {
      "cell_type": "code",
      "source": [
        "counter.most_common(1)"
      ],
      "metadata": {
        "colab": {
          "base_uri": "https://localhost:8080/"
        },
        "id": "ttPOSmFCK8ao",
        "outputId": "3e6348b5-acbd-497c-f02b-2f44a7cdab13"
      },
      "execution_count": null,
      "outputs": [
        {
          "output_type": "execute_result",
          "data": {
            "text/plain": [
              "[('l', 3)]"
            ]
          },
          "metadata": {},
          "execution_count": 11
        }
      ]
    },
    {
      "cell_type": "code",
      "source": [
        "counter.most_common(1)[0][0]"
      ],
      "metadata": {
        "colab": {
          "base_uri": "https://localhost:8080/",
          "height": 35
        },
        "id": "ZyCpL1I_LC15",
        "outputId": "82085018-9f26-481c-96a1-35fdcf912903"
      },
      "execution_count": null,
      "outputs": [
        {
          "output_type": "execute_result",
          "data": {
            "text/plain": [
              "'l'"
            ],
            "application/vnd.google.colaboratory.intrinsic+json": {
              "type": "string"
            }
          },
          "metadata": {},
          "execution_count": 13
        }
      ]
    },
    {
      "cell_type": "code",
      "source": [
        "counter.most_common(2)"
      ],
      "metadata": {
        "colab": {
          "base_uri": "https://localhost:8080/"
        },
        "id": "W4NcX1QbLVm_",
        "outputId": "b489c67c-9a32-419f-9e6a-e1fff23c9094"
      },
      "execution_count": null,
      "outputs": [
        {
          "output_type": "execute_result",
          "data": {
            "text/plain": [
              "[('l', 3), ('o', 2)]"
            ]
          },
          "metadata": {},
          "execution_count": 16
        }
      ]
    },
    {
      "cell_type": "code",
      "source": [
        "counter.most_common(2)[-1][0]"
      ],
      "metadata": {
        "colab": {
          "base_uri": "https://localhost:8080/",
          "height": 35
        },
        "id": "C4V4kW-yLIbi",
        "outputId": "79ecaaa2-53d2-48f7-8b71-ccc40b1e291f"
      },
      "execution_count": null,
      "outputs": [
        {
          "output_type": "execute_result",
          "data": {
            "text/plain": [
              "'o'"
            ],
            "application/vnd.google.colaboratory.intrinsic+json": {
              "type": "string"
            }
          },
          "metadata": {},
          "execution_count": 15
        }
      ]
    },
    {
      "cell_type": "markdown",
      "source": [
        "산술 연산자 활용"
      ],
      "metadata": {
        "id": "TblJLnbaLamP"
      }
    },
    {
      "cell_type": "code",
      "source": [
        "counter1 = Counter([\"A\", \"A\", \"B\"])\n",
        "counter2 = Counter([\"A\", \"B\", \"B\"])"
      ],
      "metadata": {
        "id": "CMZcc1MaLQAR"
      },
      "execution_count": null,
      "outputs": []
    },
    {
      "cell_type": "code",
      "source": [
        "counter1+counter2"
      ],
      "metadata": {
        "colab": {
          "base_uri": "https://localhost:8080/"
        },
        "id": "pHM1thMCLmW8",
        "outputId": "6fc1b2b2-6032-41d3-ae26-6230082c1369"
      },
      "execution_count": null,
      "outputs": [
        {
          "output_type": "execute_result",
          "data": {
            "text/plain": [
              "Counter({'A': 3, 'B': 3})"
            ]
          },
          "metadata": {},
          "execution_count": 18
        }
      ]
    },
    {
      "cell_type": "code",
      "source": [
        "counter1- counter2"
      ],
      "metadata": {
        "colab": {
          "base_uri": "https://localhost:8080/"
        },
        "id": "5e3M9Dy0LoW4",
        "outputId": "05c9d930-5719-4bf3-b0a4-7601781cdd06"
      },
      "execution_count": null,
      "outputs": [
        {
          "output_type": "execute_result",
          "data": {
            "text/plain": [
              "Counter({'A': 1})"
            ]
          },
          "metadata": {},
          "execution_count": 19
        }
      ]
    },
    {
      "cell_type": "code",
      "source": [],
      "metadata": {
        "id": "vt9m9HkOLs8d"
      },
      "execution_count": null,
      "outputs": []
    }
  ]
}