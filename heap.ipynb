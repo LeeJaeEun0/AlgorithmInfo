{
  "nbformat": 4,
  "nbformat_minor": 0,
  "metadata": {
    "colab": {
      "provenance": [],
      "authorship_tag": "ABX9TyMLO80aLNNKQACVl6R9D4W/",
      "include_colab_link": true
    },
    "kernelspec": {
      "name": "python3",
      "display_name": "Python 3"
    },
    "language_info": {
      "name": "python"
    }
  },
  "cells": [
    {
      "cell_type": "markdown",
      "metadata": {
        "id": "view-in-github",
        "colab_type": "text"
      },
      "source": [
        "<a href=\"https://colab.research.google.com/github/LeeJaeEun0/AlgorithmInfo/blob/main/heap.ipynb\" target=\"_parent\"><img src=\"https://colab.research.google.com/assets/colab-badge.svg\" alt=\"Open In Colab\"/></a>"
      ]
    },
    {
      "cell_type": "markdown",
      "source": [
        "파이썬 heapq 모듈로 힙 자료구조 사용하기"
      ],
      "metadata": {
        "id": "fJTjBPy9eC7g"
      }
    },
    {
      "cell_type": "markdown",
      "source": [
        "모듈 불러오기"
      ],
      "metadata": {
        "id": "GTGRJQoUeNcr"
      }
    },
    {
      "cell_type": "code",
      "execution_count": 3,
      "metadata": {
        "id": "AchfL5CKd_QO"
      },
      "outputs": [],
      "source": [
        "from heapq import heappush, heappop"
      ]
    },
    {
      "cell_type": "markdown",
      "source": [
        "힙 생성"
      ],
      "metadata": {
        "id": "hr8AlrW1eCMp"
      }
    },
    {
      "cell_type": "code",
      "source": [
        "heap = []"
      ],
      "metadata": {
        "id": "TRe3srAqfM4x"
      },
      "execution_count": 4,
      "outputs": []
    },
    {
      "cell_type": "markdown",
      "source": [
        "힙에 원소 추가"
      ],
      "metadata": {
        "id": "1SBRlLzafUZM"
      }
    },
    {
      "cell_type": "code",
      "source": [
        "from heapq import heappush\n",
        "heap =[]\n",
        "heappush(heap, 4) #원소를 추가할 리스트, 추가할 원소\n",
        "heappush(heap, 1)\n",
        "heappush(heap, 7)\n",
        "heappush(heap, 3)\n",
        "heappush(heap, 8)\n",
        "heappush(heap, 5)\n",
        "\n",
        "print(heap) # 리스트의 순서가 정렬된 순서로 있음\n",
        "\n",
        "\"\"\"\n",
        "      |1     --> root\n",
        "    /     \\\n",
        "    3      5\n",
        "  /   \\   /\n",
        "  4   8  7\n",
        "\"\"\""
      ],
      "metadata": {
        "colab": {
          "base_uri": "https://localhost:8080/"
        },
        "id": "b2jEYtRkfXJm",
        "outputId": "775657d0-6d0d-43d3-c0ea-217c71037947"
      },
      "execution_count": 9,
      "outputs": [
        {
          "output_type": "stream",
          "name": "stdout",
          "text": [
            "[1, 3, 5, 4, 8, 7]\n"
          ]
        }
      ]
    },
    {
      "cell_type": "markdown",
      "source": [
        "힙에서 원소 삭제"
      ],
      "metadata": {
        "id": "Rms3Rlz9fpL7"
      }
    },
    {
      "cell_type": "code",
      "source": [
        "from heapq import heappush, heappop\n",
        "\n",
        "heappop(heap) # 가장 작은 원소를 삭제\n",
        "\n",
        "print(heap)"
      ],
      "metadata": {
        "colab": {
          "base_uri": "https://localhost:8080/"
        },
        "id": "Rb9X-onvhKRG",
        "outputId": "e1a2e16c-4809-4808-80b7-b401783c38d8"
      },
      "execution_count": 10,
      "outputs": [
        {
          "output_type": "stream",
          "name": "stdout",
          "text": [
            "[3, 4, 5, 7, 8]\n"
          ]
        }
      ]
    },
    {
      "cell_type": "code",
      "source": [
        "heappop(heap) # 가장 작은 원소를 삭제\n",
        "\n",
        "print(heap) # 삭제할때마다 원소가 재배치"
      ],
      "metadata": {
        "colab": {
          "base_uri": "https://localhost:8080/"
        },
        "id": "EabHahs2hSRC",
        "outputId": "917dfb61-a1a2-4498-907d-73311703998b"
      },
      "execution_count": 11,
      "outputs": [
        {
          "output_type": "stream",
          "name": "stdout",
          "text": [
            "[4, 7, 5, 8]\n"
          ]
        }
      ]
    },
    {
      "cell_type": "code",
      "source": [
        "heappop(heap) # 가장 작은 원소를 삭제\n",
        "\n",
        "print(heap)"
      ],
      "metadata": {
        "colab": {
          "base_uri": "https://localhost:8080/"
        },
        "id": "i2rNuIMdhVhX",
        "outputId": "84e1d671-6515-4d82-b134-9884104af21d"
      },
      "execution_count": 12,
      "outputs": [
        {
          "output_type": "stream",
          "name": "stdout",
          "text": [
            "[5, 7, 8]\n"
          ]
        }
      ]
    },
    {
      "cell_type": "markdown",
      "source": [
        "최소값 삭제하지 않고 접근하기"
      ],
      "metadata": {
        "id": "wg3l_xY0hc1o"
      }
    },
    {
      "cell_type": "code",
      "source": [
        "print(heap[0])"
      ],
      "metadata": {
        "colab": {
          "base_uri": "https://localhost:8080/"
        },
        "id": "C60xPTpJhq8d",
        "outputId": "2dd2d8f2-d58c-462d-8613-554caf747fcd"
      },
      "execution_count": 13,
      "outputs": [
        {
          "output_type": "stream",
          "name": "stdout",
          "text": [
            "5\n"
          ]
        }
      ]
    },
    {
      "cell_type": "code",
      "source": [
        "heappush(heap, 1)\n",
        "print(heap[0])"
      ],
      "metadata": {
        "colab": {
          "base_uri": "https://localhost:8080/"
        },
        "id": "MOzosH7WhzIE",
        "outputId": "85826880-3993-4fad-9ef2-e1ee9a45641e"
      },
      "execution_count": 14,
      "outputs": [
        {
          "output_type": "stream",
          "name": "stdout",
          "text": [
            "1\n"
          ]
        }
      ]
    },
    {
      "cell_type": "markdown",
      "source": [
        "기존 리스트를 힙으로 변환"
      ],
      "metadata": {
        "id": "QS_d7OHBh4-D"
      }
    },
    {
      "cell_type": "code",
      "source": [
        "from heapq import heapify\n",
        "\n",
        "heap = [4, 1, 7, 3, 8, 5]\n",
        "heapify(heap)\n",
        "\n",
        "print(heap)"
      ],
      "metadata": {
        "colab": {
          "base_uri": "https://localhost:8080/"
        },
        "id": "inqILdKkiGwj",
        "outputId": "9246b60b-2bde-4e9e-fff4-534c30ea0aa0"
      },
      "execution_count": 15,
      "outputs": [
        {
          "output_type": "stream",
          "name": "stdout",
          "text": [
            "[1, 3, 5, 4, 8, 7]\n"
          ]
        }
      ]
    },
    {
      "cell_type": "code",
      "source": [
        "nums = [4, 1, 7, 3, 8, 5]\n",
        "heap = nums[:] # 배열 복사\n",
        "heapify(heap)\n",
        "\n",
        "print(nums)\n",
        "print(heap)"
      ],
      "metadata": {
        "colab": {
          "base_uri": "https://localhost:8080/"
        },
        "id": "5FHDQ3aDiZLc",
        "outputId": "b5c6f6aa-5703-4e4d-b4d9-fcbce43bd24b"
      },
      "execution_count": 16,
      "outputs": [
        {
          "output_type": "stream",
          "name": "stdout",
          "text": [
            "[4, 1, 7, 3, 8, 5]\n",
            "[1, 3, 5, 4, 8, 7]\n"
          ]
        }
      ]
    },
    {
      "cell_type": "markdown",
      "source": [
        "[응용] 최대 힙"
      ],
      "metadata": {
        "id": "NtKdUVbIixFc"
      }
    },
    {
      "cell_type": "code",
      "source": [
        "from heapq import heappush, heappushpop\n",
        "nums = [4, 1, 7, 3, 8, 5]\n",
        "heap = []\n",
        "\n",
        "for num in nums:\n",
        "  heappush(heap, (-num, num))\n",
        "\n",
        "while heap:\n",
        "  print(heappop(heap)[1])"
      ],
      "metadata": {
        "colab": {
          "base_uri": "https://localhost:8080/"
        },
        "id": "eIzIoaDti1q8",
        "outputId": "40174f59-ecc0-41ed-b1fc-5cd320ad6c3b"
      },
      "execution_count": 18,
      "outputs": [
        {
          "output_type": "stream",
          "name": "stdout",
          "text": [
            "8\n",
            "7\n",
            "5\n",
            "4\n",
            "3\n",
            "1\n"
          ]
        }
      ]
    },
    {
      "cell_type": "markdown",
      "source": [
        "[응용] n번째 최소값/최대값"
      ],
      "metadata": {
        "id": "7E1AG1xojWeM"
      }
    },
    {
      "cell_type": "code",
      "source": [
        "from heapq import heappush, heappop\n",
        "def nth_smallest(nums, n ):\n",
        "  heap = []\n",
        "  for num in nums:\n",
        "    heappush(heap, num)\n",
        "\n",
        "    nth_min = None\n",
        "  for _ in range(n):\n",
        "    nth_min = heappop(heap)\n",
        "  return nth_min\n",
        "\n",
        "print(nth_smallest([4,1,7,3,8,5],4))"
      ],
      "metadata": {
        "colab": {
          "base_uri": "https://localhost:8080/"
        },
        "id": "gizl34lSjta9",
        "outputId": "88b254f1-6c9d-4860-8e4b-ac91bf1d016e"
      },
      "execution_count": 22,
      "outputs": [
        {
          "output_type": "stream",
          "name": "stdout",
          "text": [
            "5\n"
          ]
        }
      ]
    },
    {
      "cell_type": "code",
      "source": [
        "from heapq import heappush, heappop, heapify\n",
        "def nth_smallest(nums, n ):\n",
        "  heap = nums[:]\n",
        "  heapify(nums)\n",
        "\n",
        "  nth_min = None\n",
        "  for _ in range(n):\n",
        "    nth_min = heappop(heap)\n",
        "  return nth_min\n",
        "\n",
        "print(nth_smallest([4,1,7,3,8,5],1))"
      ],
      "metadata": {
        "colab": {
          "base_uri": "https://localhost:8080/"
        },
        "id": "FpVSCYNFkVVE",
        "outputId": "cce02168-115d-49e1-fb3d-da33e1aa6709"
      },
      "execution_count": 43,
      "outputs": [
        {
          "output_type": "stream",
          "name": "stdout",
          "text": [
            "4\n"
          ]
        }
      ]
    },
    {
      "cell_type": "code",
      "source": [
        "from heapq import nsmallest\n",
        "\n",
        "print(nsmallest(3,[4,1,7,3,8,5])) # 인자로 원하는 값의 인자, 리스트"
      ],
      "metadata": {
        "colab": {
          "base_uri": "https://localhost:8080/"
        },
        "id": "UhAnWSJnmLBp",
        "outputId": "48ad72f0-afe9-463b-914f-233abdd05401"
      },
      "execution_count": 25,
      "outputs": [
        {
          "output_type": "stream",
          "name": "stdout",
          "text": [
            "[1, 3, 4]\n"
          ]
        }
      ]
    },
    {
      "cell_type": "code",
      "source": [
        "from heapq import nsmallest\n",
        "\n",
        "print(nsmallest(3,[4,1,7,3,8,5])[-1])"
      ],
      "metadata": {
        "colab": {
          "base_uri": "https://localhost:8080/"
        },
        "id": "Tlvfy3EymhiI",
        "outputId": "28aac44e-b9a0-4fbb-94c1-9fc915532231"
      },
      "execution_count": 27,
      "outputs": [
        {
          "output_type": "stream",
          "name": "stdout",
          "text": [
            "4\n"
          ]
        }
      ]
    },
    {
      "cell_type": "code",
      "source": [
        "from heapq import nlargest\n",
        "\n",
        "print(nlargest(1,[4,1,7,3,8,5])[-1])"
      ],
      "metadata": {
        "colab": {
          "base_uri": "https://localhost:8080/"
        },
        "id": "Uf3-TmMAmvUP",
        "outputId": "5e06965b-222e-4ef2-d8e2-b4d75f9066e6"
      },
      "execution_count": 28,
      "outputs": [
        {
          "output_type": "stream",
          "name": "stdout",
          "text": [
            "8\n"
          ]
        }
      ]
    },
    {
      "cell_type": "markdown",
      "source": [
        "[응용] 힙 정렬"
      ],
      "metadata": {
        "id": "Cv9WCMp0m-di"
      }
    },
    {
      "cell_type": "code",
      "source": [
        "from heapq import heappush, heappop\n",
        "def heap_sort(nums):\n",
        "  heap=[]\n",
        "  for num in nums:\n",
        "    heappush(heap, num)\n",
        "\n",
        "  sorted_nums = []\n",
        "  while heap:\n",
        "    sorted_nums.append(heappop(heap))\n",
        "  return sorted_nums\n",
        "print(heap_sort([4,1,7,3,8,5]))"
      ],
      "metadata": {
        "colab": {
          "base_uri": "https://localhost:8080/"
        },
        "id": "rSo5XK6InFq2",
        "outputId": "ab4fd829-fa78-4d1d-9b75-0dcb8e4fa976"
      },
      "execution_count": 30,
      "outputs": [
        {
          "output_type": "stream",
          "name": "stdout",
          "text": [
            "[1, 3, 4, 5, 7, 8]\n"
          ]
        }
      ]
    },
    {
      "cell_type": "code",
      "source": [],
      "metadata": {
        "id": "k_MPPV6C5LSn"
      },
      "execution_count": null,
      "outputs": []
    }
  ]
}