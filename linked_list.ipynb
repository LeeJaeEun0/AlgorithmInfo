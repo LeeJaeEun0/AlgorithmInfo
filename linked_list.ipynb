{
  "nbformat": 4,
  "nbformat_minor": 0,
  "metadata": {
    "colab": {
      "provenance": [],
      "authorship_tag": "ABX9TyMvF+l9C1MSyz31WCafCqVx",
      "include_colab_link": true
    },
    "kernelspec": {
      "name": "python3",
      "display_name": "Python 3"
    },
    "language_info": {
      "name": "python"
    }
  },
  "cells": [
    {
      "cell_type": "markdown",
      "metadata": {
        "id": "view-in-github",
        "colab_type": "text"
      },
      "source": [
        "<a href=\"https://colab.research.google.com/github/LeeJaeEun0/AlgorithmInfo/blob/main/linked_list.ipynb\" target=\"_parent\"><img src=\"https://colab.research.google.com/assets/colab-badge.svg\" alt=\"Open In Colab\"/></a>"
      ]
    },
    {
      "cell_type": "markdown",
      "source": [
        "# linked list\n",
        "* 연결리스트, 메모리 효율을 위해 많이 사용됨\n",
        "* Data field,Link field\n",
        "* visualgo(https://visualgo.net/ko)라는 사이트에서 실행화면 볼 수 있음"
      ],
      "metadata": {
        "id": "2cCe_V5FX0bV"
      }
    },
    {
      "cell_type": "code",
      "source": [
        "class Node:\n",
        "  def __init__(self, data):\n",
        "    self.data = data\n",
        "    self.next = next\n",
        "\n",
        "class LinkedList:\n",
        "  def __init__(self):\n",
        "    init = Node('init')\n",
        "    self.head = init\n",
        "    self.tail = init\n",
        "\n",
        "    self.현재노드 = None\n",
        "    self.데이터수 = 0\n",
        "\n",
        "  def __len__(self):\n",
        "    return self.데이터수\n",
        "\n",
        "  def __str__(self):\n",
        "\n",
        "    현재노드 = self.head\n",
        "    현재노드 = 현재노드.next #init노드는 사용안해서\n",
        "    s=''\n",
        "    for i in range(self.데이터수):\n",
        "      s+=f'{현재노드.data}, '\n",
        "      현재노드=현재노드.next\n",
        "    return f'[{s[:-2]}]'\n",
        "\n",
        "  def append(self, data):\n",
        "    새로운노드 = Node(data)\n",
        "    self.tail.next = 새로운노드 # 원래 있던 노드 뒤에 연결\n",
        "    self.tail = 새로운노드 # 마지막 노드를 새로운노드로 변경\n",
        "    self.데이터수 +=1\n",
        "\n",
        "  def pop(self):\n",
        "    마지막값 = self.tail.data\n",
        "    현재노드 = self.head\n",
        "\n",
        "    for i in range(self.데이터수):\n",
        "      if 현재노드.next is self.tail:\n",
        "        self.tail = 현재노드\n",
        "        break\n",
        "      현재노드 = 현재노드.next\n",
        "\n",
        "    self.데이터수 -=1\n",
        "    return 마지막값\n",
        "\n",
        "  def find(self, data):\n",
        "    index=-1 # init때문\n",
        "    현재노드 = self.head\n",
        "\n",
        "    for i in range(self.데이터수+1): #init때문\n",
        "      if 현재노드.data == data:\n",
        "        return index\n",
        "      index+=1\n",
        "      현재노드 = 현재노드.next\n",
        "\n",
        "    return -1"
      ],
      "metadata": {
        "id": "tSFziNJwYV2L"
      },
      "execution_count": 112,
      "outputs": []
    },
    {
      "cell_type": "code",
      "source": [
        "l = LinkedList()\n",
        "l.append(10)\n",
        "l.append(20)\n",
        "l.append(30)\n",
        "l.append(40)\n",
        "l.append(50)\n",
        "l.append(15)"
      ],
      "metadata": {
        "id": "IT-LzImgZKOd"
      },
      "execution_count": 113,
      "outputs": []
    },
    {
      "cell_type": "code",
      "source": [
        "l.head.data"
      ],
      "metadata": {
        "colab": {
          "base_uri": "https://localhost:8080/",
          "height": 35
        },
        "id": "gXtvnGvyZU-e",
        "outputId": "11f77d2b-c7ca-436a-8c56-b1af20983ab1"
      },
      "execution_count": 114,
      "outputs": [
        {
          "output_type": "execute_result",
          "data": {
            "text/plain": [
              "'init'"
            ],
            "application/vnd.google.colaboratory.intrinsic+json": {
              "type": "string"
            }
          },
          "metadata": {},
          "execution_count": 114
        }
      ]
    },
    {
      "cell_type": "code",
      "source": [
        "l.head.data\n",
        "l.head.next.data\n",
        "l.head.next.next.data\n",
        "l.head.next.next.next.data"
      ],
      "metadata": {
        "colab": {
          "base_uri": "https://localhost:8080/"
        },
        "id": "To1aYNhyZeKX",
        "outputId": "3f815104-92e4-42d0-cdd7-8f32da627ad3"
      },
      "execution_count": 115,
      "outputs": [
        {
          "output_type": "execute_result",
          "data": {
            "text/plain": [
              "30"
            ]
          },
          "metadata": {},
          "execution_count": 115
        }
      ]
    },
    {
      "cell_type": "code",
      "source": [
        "l.tail.data"
      ],
      "metadata": {
        "colab": {
          "base_uri": "https://localhost:8080/"
        },
        "id": "3JyBkkB6ZsyH",
        "outputId": "19d45d50-9210-4678-c23f-9d9107ed7384"
      },
      "execution_count": 116,
      "outputs": [
        {
          "output_type": "execute_result",
          "data": {
            "text/plain": [
              "15"
            ]
          },
          "metadata": {},
          "execution_count": 116
        }
      ]
    },
    {
      "cell_type": "code",
      "source": [
        "l.데이터수"
      ],
      "metadata": {
        "colab": {
          "base_uri": "https://localhost:8080/"
        },
        "id": "51mTGCZscEge",
        "outputId": "17859115-3c61-4852-e33a-0362ee8f4f2c"
      },
      "execution_count": 117,
      "outputs": [
        {
          "output_type": "execute_result",
          "data": {
            "text/plain": [
              "6"
            ]
          },
          "metadata": {},
          "execution_count": 117
        }
      ]
    },
    {
      "cell_type": "code",
      "source": [
        "len(l) # __len__"
      ],
      "metadata": {
        "colab": {
          "base_uri": "https://localhost:8080/"
        },
        "id": "kLsjU35DcGCe",
        "outputId": "14143def-1278-4570-9d18-c7e3ae50811f"
      },
      "execution_count": 118,
      "outputs": [
        {
          "output_type": "execute_result",
          "data": {
            "text/plain": [
              "6"
            ]
          },
          "metadata": {},
          "execution_count": 118
        }
      ]
    },
    {
      "cell_type": "code",
      "source": [
        "print(l) #__str__"
      ],
      "metadata": {
        "colab": {
          "base_uri": "https://localhost:8080/"
        },
        "id": "uYEjziWdcdgK",
        "outputId": "864441de-1bd3-41fa-84a3-4c13de7949b9"
      },
      "execution_count": 119,
      "outputs": [
        {
          "output_type": "stream",
          "name": "stdout",
          "text": [
            "[10, 20, 30, 40, 50, 15]\n"
          ]
        }
      ]
    },
    {
      "cell_type": "code",
      "source": [
        "l.pop()"
      ],
      "metadata": {
        "colab": {
          "base_uri": "https://localhost:8080/"
        },
        "id": "UO0XWOHQiM45",
        "outputId": "6a0519b6-701b-4a89-a963-f076563ea7e9"
      },
      "execution_count": 120,
      "outputs": [
        {
          "output_type": "execute_result",
          "data": {
            "text/plain": [
              "15"
            ]
          },
          "metadata": {},
          "execution_count": 120
        }
      ]
    },
    {
      "cell_type": "code",
      "source": [
        "print(l)"
      ],
      "metadata": {
        "colab": {
          "base_uri": "https://localhost:8080/"
        },
        "id": "y_Ot-G56krW6",
        "outputId": "dc3711e2-1852-44a7-e9c3-578cf233b238"
      },
      "execution_count": 121,
      "outputs": [
        {
          "output_type": "stream",
          "name": "stdout",
          "text": [
            "[10, 20, 30, 40, 50]\n"
          ]
        }
      ]
    },
    {
      "cell_type": "code",
      "source": [
        "l.find(20)"
      ],
      "metadata": {
        "colab": {
          "base_uri": "https://localhost:8080/"
        },
        "id": "3z_U6Zk0ks4-",
        "outputId": "e84a52ca-c032-432f-f382-5ebe7d040c80"
      },
      "execution_count": 122,
      "outputs": [
        {
          "output_type": "execute_result",
          "data": {
            "text/plain": [
              "1"
            ]
          },
          "metadata": {},
          "execution_count": 122
        }
      ]
    }
  ]
}