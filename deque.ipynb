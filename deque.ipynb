{
  "nbformat": 4,
  "nbformat_minor": 0,
  "metadata": {
    "colab": {
      "provenance": [],
      "authorship_tag": "ABX9TyMJsQyWT1qrr0pOOthfNWKT",
      "include_colab_link": true
    },
    "kernelspec": {
      "name": "python3",
      "display_name": "Python 3"
    },
    "language_info": {
      "name": "python"
    }
  },
  "cells": [
    {
      "cell_type": "markdown",
      "metadata": {
        "id": "view-in-github",
        "colab_type": "text"
      },
      "source": [
        "<a href=\"https://colab.research.google.com/github/LeeJaeEun0/AlgorithmInfo/blob/main/deque.ipynb\" target=\"_parent\"><img src=\"https://colab.research.google.com/assets/colab-badge.svg\" alt=\"Open In Colab\"/></a>"
      ]
    },
    {
      "cell_type": "markdown",
      "source": [
        "deque 사용하기"
      ],
      "metadata": {
        "id": "ATnNMdJ0f7Nc"
      }
    },
    {
      "cell_type": "code",
      "execution_count": 9,
      "metadata": {
        "colab": {
          "base_uri": "https://localhost:8080/"
        },
        "id": "jhXGJBowfz7D",
        "outputId": "908445a0-9f40-49c6-cdfe-0a3b4f43ee95"
      },
      "outputs": [
        {
          "output_type": "execute_result",
          "data": {
            "text/plain": [
              "deque([1, 2, 3, 4])"
            ]
          },
          "metadata": {},
          "execution_count": 9
        }
      ],
      "source": [
        "from collections import deque\n",
        "deq = deque([1,2,3,4])\n",
        "deq"
      ]
    },
    {
      "cell_type": "markdown",
      "source": [
        "deque에서 스택 구현 - append(), pop()"
      ],
      "metadata": {
        "id": "uZn0FWaZgUB1"
      }
    },
    {
      "cell_type": "code",
      "source": [
        "deq.append(1)\n",
        "deq"
      ],
      "metadata": {
        "colab": {
          "base_uri": "https://localhost:8080/"
        },
        "id": "Q91VOOnBgP-8",
        "outputId": "83699e73-1209-412c-fcdb-246819db4bcd"
      },
      "execution_count": 10,
      "outputs": [
        {
          "output_type": "execute_result",
          "data": {
            "text/plain": [
              "deque([1, 2, 3, 4, 1])"
            ]
          },
          "metadata": {},
          "execution_count": 10
        }
      ]
    },
    {
      "cell_type": "code",
      "source": [
        "deq.pop()\n",
        "deq"
      ],
      "metadata": {
        "colab": {
          "base_uri": "https://localhost:8080/"
        },
        "id": "uD_-lMCGgbHD",
        "outputId": "1d446602-d2e3-4679-872d-a059a680e4ad"
      },
      "execution_count": 11,
      "outputs": [
        {
          "output_type": "execute_result",
          "data": {
            "text/plain": [
              "deque([1, 2, 3, 4])"
            ]
          },
          "metadata": {},
          "execution_count": 11
        }
      ]
    },
    {
      "cell_type": "markdown",
      "source": [
        "deque에서 큐 구현 - append(), appendleft(), pop(), popleft()"
      ],
      "metadata": {
        "id": "nkr6sNm3hNE7"
      }
    },
    {
      "cell_type": "code",
      "source": [
        "deq.append(5)\n",
        "deq\n",
        "deq.popleft()\n",
        "deq"
      ],
      "metadata": {
        "colab": {
          "base_uri": "https://localhost:8080/"
        },
        "id": "0x7sv7cAge3M",
        "outputId": "a66a6089-3f5f-4bd2-9c9d-4f364f6fd280"
      },
      "execution_count": 12,
      "outputs": [
        {
          "output_type": "execute_result",
          "data": {
            "text/plain": [
              "deque([2, 3, 4, 5])"
            ]
          },
          "metadata": {},
          "execution_count": 12
        }
      ]
    },
    {
      "cell_type": "markdown",
      "source": [
        "deque의 내용 좌우 반전 - reverse()"
      ],
      "metadata": {
        "id": "d0-Ypm0Fhi1c"
      }
    },
    {
      "cell_type": "code",
      "source": [
        "deq\n",
        "deq.reverse()\n",
        "deq"
      ],
      "metadata": {
        "colab": {
          "base_uri": "https://localhost:8080/"
        },
        "id": "Id9OLPH_gwsO",
        "outputId": "18712ca6-4456-4d8f-ef3f-42c8d0aa67c3"
      },
      "execution_count": 13,
      "outputs": [
        {
          "output_type": "execute_result",
          "data": {
            "text/plain": [
              "deque([5, 4, 3, 2])"
            ]
          },
          "metadata": {},
          "execution_count": 13
        }
      ]
    },
    {
      "cell_type": "code",
      "source": [],
      "metadata": {
        "id": "Ff6AQdxDh0hF"
      },
      "execution_count": null,
      "outputs": []
    }
  ]
}